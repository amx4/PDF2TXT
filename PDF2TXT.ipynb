{
  "nbformat": 4,
  "nbformat_minor": 0,
  "metadata": {
    "colab": {
      "name": "PDF2TXT",
      "private_outputs": true,
      "provenance": [],
      "collapsed_sections": [],
      "authorship_tag": "ABX9TyP2qSMnd9nvGFm+zyivjAOC",
      "include_colab_link": true
    },
    "kernelspec": {
      "name": "python3",
      "display_name": "Python 3"
    }
  },
  "cells": [
    {
      "cell_type": "markdown",
      "metadata": {
        "id": "view-in-github",
        "colab_type": "text"
      },
      "source": [
        "<a href=\"https://colab.research.google.com/github/amx4/PDF2TXT/blob/main/PDF2TXT.ipynb\" target=\"_parent\"><img src=\"https://colab.research.google.com/assets/colab-badge.svg\" alt=\"Open In Colab\"/></a>"
      ]
    },
    {
      "cell_type": "markdown",
      "metadata": {
        "id": "_OrUuqlQYyLI"
      },
      "source": [
        "**Extraction of text from a PDF file and saving as a txt file**"
      ]
    },
    {
      "cell_type": "code",
      "metadata": {
        "id": "0ggJnxUxrUjh"
      },
      "source": [
        "pip install PyPDF2"
      ],
      "execution_count": null,
      "outputs": []
    },
    {
      "cell_type": "code",
      "metadata": {
        "id": "IJo0cMqDY7C6"
      },
      "source": [
        "import PyPDF2\n",
        "import os\n",
        "from google.colab import drive\n",
        "drive.mount(\"/content/drive/\") "
      ],
      "execution_count": null,
      "outputs": []
    },
    {
      "cell_type": "code",
      "metadata": {
        "id": "UIS5t82Et4cT"
      },
      "source": [
        "os.chdir(\"/content/drive/My Drive/Classroom/\")\n",
        "print(os.getcwd())"
      ],
      "execution_count": null,
      "outputs": []
    },
    {
      "cell_type": "code",
      "metadata": {
        "id": "SBduiKeMmCjI"
      },
      "source": [
        "ls"
      ],
      "execution_count": null,
      "outputs": []
    },
    {
      "cell_type": "code",
      "metadata": {
        "id": "YmQLQUlhySvc"
      },
      "source": [
        "# FUNCTION FOR EXTRACTING TEXT FROM PDF FILE\n",
        "def extract(fname):\n",
        "  readpdf = PyPDF2.PdfFileReader(open(fname, 'rb'))\n",
        "\n",
        "  def pdfextractor(fname, i):\n",
        "    return(readpdf.getPage(i).extractText())\n",
        "\n",
        "  n = readpdf.numPages\n",
        "  print(\"Total No. of pages: \", n)\n",
        "  print(\"Parsing pages.....\")\n",
        "  txt = \"\"\n",
        "  temp = \"\"\n",
        "  l = 0\n",
        "  for i in range(0, n):\n",
        "    temp = pdfextractor(fname, i)\n",
        "    l = l + len(temp)\n",
        "    txt = txt + temp\n",
        "  print(\"Length of text is {l}\".format(l =len(txt)))\n",
        "  return txt"
      ],
      "execution_count": null,
      "outputs": []
    },
    {
      "cell_type": "code",
      "metadata": {
        "id": "pok4hnEC5rnu"
      },
      "source": [
        "# FUNCTION FOR GENERATING STRING FROM DATE - TIME FOR FILE NAME\n",
        "\n",
        "def generate_timestr():\n",
        "  from datetime import datetime\n",
        "  dt = datetime.now()\n",
        "  lst = [dt.year, dt.month, dt.day, dt.hour, dt.minute, dt.second] \n",
        "  t = str(lst)\n",
        "  purge = [\",\",\" \", \"[\", \"]\"]\n",
        "  for i in purge:\n",
        "    #print(i)\n",
        "    t = t.replace(i, \"\")\n",
        "    #print(t)\n",
        "  return(t)"
      ],
      "execution_count": null,
      "outputs": []
    },
    {
      "cell_type": "code",
      "metadata": {
        "id": "9lNtWYvc2QTh"
      },
      "source": [
        "# FUNCTION FOR SAVING FILE\n",
        "\n",
        "def savetxt(f2name, content):\n",
        "\n",
        "\n",
        "  fullfname = f2name+\".txt\"\n",
        "  with open(fullfname, 'w') as f:\n",
        "    f.writelines(content)\n",
        "  \n",
        "  print(\"File saved succesfully as :\", fullfname)\n"
      ],
      "execution_count": null,
      "outputs": []
    },
    {
      "cell_type": "code",
      "metadata": {
        "id": "SrC1rE3u5EB0"
      },
      "source": [
        "text = extract(\"0.pdf\")"
      ],
      "execution_count": null,
      "outputs": []
    },
    {
      "cell_type": "code",
      "metadata": {
        "id": "IYL11TPl5X1x"
      },
      "source": [
        "fname2 = generate_timestr()\n",
        "print(fname2)\n",
        "savetxt(fname2, text)"
      ],
      "execution_count": null,
      "outputs": []
    },
    {
      "cell_type": "code",
      "metadata": {
        "id": "ix_webg-2MR5"
      },
      "source": [
        ""
      ],
      "execution_count": null,
      "outputs": []
    }
  ]
}